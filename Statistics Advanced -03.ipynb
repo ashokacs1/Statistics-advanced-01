{
 "cells": [
  {
   "cell_type": "markdown",
   "id": "34083ddb",
   "metadata": {},
   "source": [
    "# Q1: What is Estimation Statistics? Explain point estimate and interval estimate."
   ]
  },
  {
   "cell_type": "markdown",
   "id": "7045bcce",
   "metadata": {},
   "source": [
    "Estimation statistics is a branch of statistics that focuses on estimating population parameters (such as means, variances, proportions, or other descriptive measures) based on sample data. It involves making educated guesses or inferences about the true characteristics of a population using information obtained from a sample.\n",
    "\n",
    "There are two common methods of estimation in statistics: point estimation and interval estimation.\n",
    "\n",
    "1. **Point Estimate:**\n",
    "   - A point estimate is a single value that is used to approximate a population parameter. It is essentially a best guess based on the sample data.\n",
    "   - The most common point estimate is the sample mean (\\( \\bar{x} \\)) used to estimate the population mean (\\( \\mu \\)). The formula for the sample mean is:\n",
    "     \\[ \\bar{x} = \\frac{\\sum_{i=1}^{n} x_i}{n} \\]\n",
    "     where \\( x_i \\) are the individual data points in the sample, and \\( n \\) is the sample size.\n",
    "   - Other examples of point estimates include the sample variance used to estimate the population variance and the sample proportion used to estimate the population proportion.\n",
    "   - Point estimates are simple, but they don't provide information about the uncertainty or variability of the estimate.\n",
    "\n",
    "2. **Interval Estimate (Confidence Interval):**\n",
    "   - An interval estimate, also known as a confidence interval, provides a range (interval) of values within which the true population parameter is likely to fall, along with a level of confidence associated with that range.\n",
    "   - The construction of a confidence interval involves using sample data to calculate both a point estimate and a margin of error. The margin of error depends on the sample size, the desired level of confidence, and the standard error of the estimate.\n",
    "   - A confidence interval is often expressed as: \"We are X% confident that the true parameter lies in the interval [lower bound, upper bound].\"\n",
    "   - The most common confidence level is 95%, which means that if you were to take many samples and construct a 95% confidence interval for each, you would expect the true parameter to fall within the interval for about 95% of those samples.\n",
    "\n",
    "In summary, estimation statistics involves estimating population parameters using sample data. Point estimates provide a single value as an estimate, while interval estimates (confidence intervals) provide a range of values along with a level of confidence regarding the true population parameter. Interval estimates are often preferred when we want to capture the uncertainty associated with our estimates and provide a more informative and robust way of making inferences about population characteristics."
   ]
  },
  {
   "cell_type": "markdown",
   "id": "aef75dd5",
   "metadata": {},
   "source": [
    "# Q2. Write a Python function to estimate the population mean using a sample mean and standard deviation."
   ]
  },
  {
   "cell_type": "code",
   "execution_count": 1,
   "id": "7c9c55b0",
   "metadata": {},
   "outputs": [
    {
     "name": "stdout",
     "output_type": "stream",
     "text": [
      "Confidence Interval (95.0%): (56.42, 63.58)\n"
     ]
    }
   ],
   "source": [
    "import scipy.stats as stats\n",
    "\n",
    "def estimate_population_mean(sample_mean, sample_std, sample_size, confidence_level=0.95):\n",
    "    # Calculate the standard error of the mean (SEM)\n",
    "    standard_error = sample_std / (sample_size**0.5)\n",
    "    \n",
    "    # Calculate the critical value (Z) based on the confidence level\n",
    "    alpha = 1 - confidence_level\n",
    "    z = stats.norm.ppf(1 - alpha / 2)  # For a two-tailed test\n",
    "    \n",
    "    # Calculate the margin of error\n",
    "    margin_of_error = z * standard_error\n",
    "    \n",
    "    # Calculate the confidence interval\n",
    "    lower_bound = sample_mean - margin_of_error\n",
    "    upper_bound = sample_mean + margin_of_error\n",
    "    \n",
    "    return lower_bound, upper_bound\n",
    "\n",
    "# Example usage:\n",
    "sample_mean = 60  # Sample mean\n",
    "sample_std = 10   # Sample standard deviation\n",
    "sample_size = 30  # Sample size\n",
    "confidence_level = 0.95\n",
    "\n",
    "lower, upper = estimate_population_mean(sample_mean, sample_std, sample_size, confidence_level)\n",
    "print(f\"Confidence Interval ({confidence_level*100}%): ({lower:.2f}, {upper:.2f})\")\n"
   ]
  },
  {
   "cell_type": "markdown",
   "id": "cd0c2bfb",
   "metadata": {},
   "source": [
    "# Q3: What is Hypothesis testing? Why is it used? State the importance of Hypothesis testing."
   ]
  },
  {
   "cell_type": "markdown",
   "id": "38a88cdb",
   "metadata": {},
   "source": [
    "Hypothesis testing is a fundamental statistical method used to make inferences about a population based on a sample of data. It involves testing a specific claim or hypothesis about a population parameter to determine whether the available evidence supports the claim or not. Hypothesis testing is widely used in various fields, including science, research, medicine, economics, and more.\n",
    "\n",
    "Here's how hypothesis testing works and why it is important:\n",
    "\n",
    "**Key Components of Hypothesis Testing:**\n",
    "1. **Null Hypothesis (H0):** The null hypothesis is the initial assumption or claim that there is no significant effect or difference. It represents the status quo or the \"default\" assumption. It is denoted as H0.\n",
    "\n",
    "2. **Alternative Hypothesis (Ha or H1):** The alternative hypothesis is the statement that the researcher is trying to support or find evidence for. It represents the opposite of the null hypothesis. It is denoted as Ha or H1.\n",
    "\n",
    "3. **Test Statistic:** A test statistic is a numerical value computed from the sample data. It measures the strength of evidence against the null hypothesis.\n",
    "\n",
    "4. **Significance Level (α):** The significance level, denoted as α, represents the probability of making a Type I error (rejecting a true null hypothesis). Common values for α are 0.05 or 0.01.\n",
    "\n",
    "5. **P-value:** The p-value is the probability of obtaining a test statistic as extreme as, or more extreme than, the one observed in the sample data, assuming the null hypothesis is true.\n",
    "\n",
    "**Hypothesis Testing Process:**\n",
    "1. **Formulate Hypotheses:** Define the null hypothesis (H0) and the alternative hypothesis (Ha). These hypotheses should be clear and mutually exclusive.\n",
    "\n",
    "2. **Collect Data:** Gather and analyze a sample of data that is relevant to the hypothesis being tested.\n",
    "\n",
    "3. **Select a Test Statistic:** Choose an appropriate test statistic that helps you evaluate the evidence against the null hypothesis. The choice of test statistic depends on the type of data and the nature of the hypothesis.\n",
    "\n",
    "4. **Calculate the Test Statistic:** Compute the test statistic using the sample data.\n",
    "\n",
    "5. **Determine the P-value:** Calculate the p-value, which represents the probability of observing the test statistic under the null hypothesis. A small p-value suggests strong evidence against the null hypothesis.\n",
    "\n",
    "6. **Make a Decision:** Compare the p-value to the significance level (α). If the p-value is less than or equal to α, reject the null hypothesis. If the p-value is greater than α, fail to reject the null hypothesis.\n",
    "\n",
    "7. **Draw a Conclusion:** Based on the decision, draw a conclusion about the null hypothesis and the alternative hypothesis.\n",
    "\n",
    "**Importance of Hypothesis Testing:**\n",
    "1. **Scientific Inquiry:** Hypothesis testing is at the core of the scientific method. It allows researchers to evaluate and test their hypotheses about the relationships between variables or the effects of interventions.\n",
    "\n",
    "2. **Data-Driven Decision Making:** It provides a structured approach for making decisions based on empirical evidence rather than intuition or guesswork.\n",
    "\n",
    "3. **Statistical Inference:** Hypothesis testing allows you to draw conclusions about a population based on a sample. It helps determine if sample findings are generalizable to a larger group.\n",
    "\n",
    "4. **Quality Control:** In industrial and manufacturing processes, hypothesis testing is used to ensure product quality and consistency.\n",
    "\n",
    "5. **Policy and Business Decision Making:** In economics and business, hypothesis testing is used to evaluate the effectiveness of policies and strategies.\n",
    "\n",
    "6. **Medical Research:** It is essential in clinical trials to assess the effectiveness of new treatments or interventions.\n",
    "\n",
    "7. **Educational Assessment:** In educational research, it is used to evaluate the impact of teaching methods and interventions on student outcomes.\n",
    "\n",
    "In summary, hypothesis testing is a powerful tool for making data-driven decisions, conducting research, and drawing conclusions about population parameters. It provides a structured and rigorous approach to assess the validity of claims and hypotheses, making it a cornerstone of statistical analysis and scientific inquiry."
   ]
  },
  {
   "cell_type": "markdown",
   "id": "0a7cfea2",
   "metadata": {},
   "source": [
    "# Q4. Create a hypothesis that states whether the average weight of male college students is greater than the average weight of female college students."
   ]
  },
  {
   "cell_type": "markdown",
   "id": "7b738501",
   "metadata": {},
   "source": [
    "Hypothesis testing involves formulating a null hypothesis (H0) and an alternative hypothesis (Ha) to test a specific claim. In this case, you want to test whether the average weight of male college students is greater than the average weight of female college students. Here are the null and alternative hypotheses:\n",
    "\n",
    "**Null Hypothesis (H0):**\n",
    "The null hypothesis states that there is no significant difference in the average weight between male and female college students. It typically includes an equality sign (e.g., \"equal to\" or \"no difference\"). In this context, the null hypothesis can be stated as:\n",
    "\n",
    "H0: μ_male = μ_female\n",
    "\n",
    "Where:\n",
    "- H0 is the null hypothesis.\n",
    "- μ_male represents the population mean weight of male college students.\n",
    "- μ_female represents the population mean weight of female college students.\n",
    "\n",
    "**Alternative Hypothesis (Ha):**\n",
    "The alternative hypothesis represents the claim you want to test. In this case, you want to test whether the average weight of male college students is greater than the average weight of female college students. So, the alternative hypothesis is:\n",
    "\n",
    "Ha: μ_male > μ_female\n",
    "\n",
    "Where:\n",
    "- Ha is the alternative hypothesis.\n",
    "- μ_male represents the population mean weight of male college students.\n",
    "- μ_female represents the population mean weight of female college students.\n",
    "\n",
    "These hypotheses set up a one-tailed test, where you are specifically interested in determining if the average weight of male students is greater than that of female students. To test this hypothesis, you would collect data on the weights of male and female college students, perform the appropriate statistical test (e.g., t-test or z-test), and use the results to make an inference about whether there is evidence to support the claim that male college students weigh more on average than female college students."
   ]
  },
  {
   "cell_type": "markdown",
   "id": "5414f1ad",
   "metadata": {},
   "source": [
    "# Q5. Write a Python script to conduct a hypothesis test on the difference between two population means, given a sample from each population."
   ]
  },
  {
   "cell_type": "code",
   "execution_count": 3,
   "id": "8415a434",
   "metadata": {},
   "outputs": [
    {
     "name": "stdout",
     "output_type": "stream",
     "text": [
      "Sample 1 Mean: 75.0\n",
      "Sample 2 Mean: 72.0\n",
      "t-statistic: 0.5741692517632145\n",
      "p-value: 0.5816333668955778\n",
      "Fail to reject the null hypothesis\n",
      "There is no significant difference between the two population means.\n"
     ]
    }
   ],
   "source": [
    "import numpy as np\n",
    "from scipy import stats\n",
    "\n",
    "# Sample data for two populations (replace these with your data)\n",
    "sample1 = np.array([65, 70, 75, 80, 85])\n",
    "sample2 = np.array([60, 68, 72, 78, 82])\n",
    "\n",
    "# Define the significance level (alpha)\n",
    "alpha = 0.05\n",
    "\n",
    "# Perform a two-sample t-test\n",
    "t_stat, p_value = stats.ttest_ind(sample1, sample2)\n",
    "\n",
    "# Print the results\n",
    "print(\"Sample 1 Mean:\", np.mean(sample1))\n",
    "print(\"Sample 2 Mean:\", np.mean(sample2))\n",
    "print(\"t-statistic:\", t_stat)\n",
    "print(\"p-value:\", p_value)\n",
    "\n",
    "# Check if the p-value is less than the significance level\n",
    "if p_value < alpha:\n",
    "    print(\"Reject the null hypothesis\")\n",
    "    print(\"There is a significant difference between the two population means.\")\n",
    "else:\n",
    "    print(\"Fail to reject the null hypothesis\")\n",
    "    print(\"There is no significant difference between the two population means.\")\n"
   ]
  },
  {
   "cell_type": "markdown",
   "id": "61dd1231",
   "metadata": {},
   "source": [
    "# Q6: What is a null and alternative hypothesis? Give some examples."
   ]
  },
  {
   "cell_type": "markdown",
   "id": "6adb6f8a",
   "metadata": {},
   "source": [
    "In hypothesis testing, the null hypothesis (H0) and the alternative hypothesis (Ha or H1) are two competing statements that are used to make inferences about a population based on sample data. These statements represent different claims or hypotheses about a population parameter, and the goal is to determine which one is supported by the evidence.\n",
    "\n",
    "Here are definitions and examples of null and alternative hypotheses:\n",
    "\n",
    "**Null Hypothesis (H0):**\n",
    "- The null hypothesis is a statement of no effect, no difference, or no relationship. It represents the status quo or a default assumption that there is no significant change or effect in the population parameter.\n",
    "- H0 often includes an equality sign (e.g., \"equal to\" or \"no difference\").\n",
    "- The null hypothesis is typically what you aim to test against to see if the sample data provide evidence to reject it.\n",
    "- Examples of null hypotheses:\n",
    "  1. The mean test score of a new teaching method is equal to the mean test score of the traditional teaching method (H0: μ_new = μ_traditional).\n",
    "  2. There is no difference in the population proportions of men and women who prefer tea over coffee (H0: p_men = p_women).\n",
    "  3. A new drug has no effect on reducing blood pressure compared to a placebo (H0: μ_drug = μ_placebo).\n",
    "\n",
    "**Alternative Hypothesis (Ha or H1):**\n",
    "- The alternative hypothesis is a statement that contradicts the null hypothesis. It represents the claim or hypothesis you are trying to find evidence for.\n",
    "- Ha often includes inequality signs (e.g., \"greater than,\" \"less than,\" or \"not equal to\").\n",
    "- The alternative hypothesis can be one-tailed (indicating a specific direction of effect) or two-tailed (indicating a difference without specifying direction).\n",
    "- Examples of alternative hypotheses:\n",
    "  1. The mean test score of a new teaching method is greater than the mean test score of the traditional teaching method (Ha: μ_new > μ_traditional).\n",
    "  2. The population proportion of men who prefer tea over coffee is less than the proportion of women (Ha: p_men < p_women).\n",
    "  3. The new drug is effective in reducing blood pressure compared to a placebo (Ha: μ_drug < μ_placebo).\n",
    "\n",
    "In hypothesis testing, you collect sample data and use statistical tests to evaluate the evidence in favor of either the null hypothesis or the alternative hypothesis. If the sample data provide strong evidence against the null hypothesis (typically based on the p-value), you may reject the null hypothesis in favor of the alternative hypothesis. The choice of null and alternative hypotheses is crucial in framing your research question and guiding the hypothesis testing process."
   ]
  },
  {
   "cell_type": "markdown",
   "id": "8cc340f8",
   "metadata": {},
   "source": [
    "# Q7: Write down the steps involved in hypothesis testing."
   ]
  },
  {
   "cell_type": "markdown",
   "id": "20c24858",
   "metadata": {},
   "source": [
    "Hypothesis testing is a structured process used to make statistical inferences about population parameters based on sample data. The steps involved in hypothesis testing typically include the following:\n",
    "\n",
    "1. **Formulate Hypotheses:**\n",
    "   - **Null Hypothesis (H0):** State the null hypothesis, which represents the status quo or a default assumption. It often includes an equality sign (e.g., \"equal to\" or \"no difference\").\n",
    "   - **Alternative Hypothesis (Ha or H1):** State the alternative hypothesis, which represents the claim or hypothesis you want to find evidence for. It can include inequality signs (e.g., \"greater than,\" \"less than,\" or \"not equal to\").\n",
    "\n",
    "2. **Collect Data:**\n",
    "   - Gather a sample of data relevant to the hypothesis being tested. Ensure that the data collection is done in a representative and unbiased manner.\n",
    "\n",
    "3. **Select a Significance Level (Alpha, α):**\n",
    "   - Choose a significance level (α), which represents the probability of making a Type I error (rejecting a true null hypothesis). Common values are 0.05 or 0.01.\n",
    "\n",
    "4. **Choose a Statistical Test:**\n",
    "   - Select an appropriate statistical test based on the nature of the data and the hypothesis being tested. For example, use a t-test for means, a chi-squared test for proportions, etc.\n",
    "\n",
    "5. **Calculate the Test Statistic:**\n",
    "   - Compute the test statistic based on the chosen test and the sample data. The test statistic measures the strength of evidence against the null hypothesis.\n",
    "\n",
    "6. **Determine the P-value:**\n",
    "   - Calculate the p-value, which is the probability of obtaining a test statistic as extreme as, or more extreme than, the one observed in the sample data, assuming the null hypothesis is true.\n",
    "\n",
    "7. **Compare P-value and Significance Level:**\n",
    "   - Compare the p-value to the chosen significance level (α). If the p-value is less than or equal to α, you reject the null hypothesis. If it is greater than α, you fail to reject the null hypothesis.\n",
    "\n",
    "8. **Make a Decision:**\n",
    "   - Based on the comparison in step 7, make a decision regarding the null hypothesis. If you reject the null hypothesis, you accept the alternative hypothesis. If you fail to reject the null hypothesis, you do not accept the alternative hypothesis.\n",
    "\n",
    "9. **Draw a Conclusion:**\n",
    "   - Summarize your findings and draw a conclusion based on the decision made in step 8. State whether there is sufficient evidence to support the alternative hypothesis or not.\n",
    "\n",
    "10. **Report the Results:**\n",
    "    - Report the test statistic, p-value, and your conclusion, along with any relevant information about the data and the hypothesis test.\n",
    "\n",
    "11. **Interpret the Results:**\n",
    "    - Provide an interpretation of the results in the context of the research question or problem being investigated.\n",
    "\n",
    "12. **Discuss Implications:**\n",
    "    - Discuss the practical implications of your findings and their significance in the broader context of the research or problem.\n",
    "\n",
    "13. **Consider Limitations:**\n",
    "    - Reflect on the limitations of the study and potential sources of bias or error.\n",
    "\n",
    "The process of hypothesis testing is designed to help researchers make data-driven decisions and draw valid conclusions about population parameters based on sample data. It provides a structured framework for assessing the strength of evidence in support of a particular claim or hypothesis."
   ]
  },
  {
   "cell_type": "markdown",
   "id": "5794f45a",
   "metadata": {},
   "source": [
    "# Q8. Define p-value and explain its significance in hypothesis testing."
   ]
  },
  {
   "cell_type": "markdown",
   "id": "de4807ec",
   "metadata": {},
   "source": [
    "The p-value, or probability value, is a critical concept in hypothesis testing and represents the probability of observing a test statistic as extreme as, or more extreme than, the one obtained from the sample data, assuming the null hypothesis is true. In other words, the p-value quantifies the strength of evidence against the null hypothesis.\n",
    "\n",
    "Here's a more detailed explanation of the p-value and its significance in hypothesis testing:\n",
    "\n",
    "1. **Definition of p-value:**\n",
    "   - The p-value is a probability, typically ranging from 0 to 1, and it measures the likelihood of obtaining the observed results (or more extreme results) when the null hypothesis is true.\n",
    "   - A small p-value (typically less than the chosen significance level, α) suggests strong evidence against the null hypothesis and implies that the sample data provide support for the alternative hypothesis.\n",
    "   - A large p-value, on the other hand, suggests weak evidence against the null hypothesis and implies that the sample data do not support the alternative hypothesis.\n",
    "\n",
    "2. **Significance in Hypothesis Testing:**\n",
    "   - The p-value plays a central role in hypothesis testing because it helps you make decisions regarding the null hypothesis.\n",
    "   - If the p-value is less than or equal to the chosen significance level (α), you reject the null hypothesis. This means that the sample data provide strong evidence against the null hypothesis, and you accept the alternative hypothesis.\n",
    "   - If the p-value is greater than α, you fail to reject the null hypothesis. This indicates that the sample data do not provide sufficient evidence to support the alternative hypothesis.\n",
    "\n",
    "3. **Interpreting p-values:**\n",
    "   - A p-value is not a direct measure of the probability that the null hypothesis is true or false; it assesses the consistency of the data with the null hypothesis.\n",
    "   - Smaller p-values indicate more extreme or rare results under the null hypothesis and are typically associated with stronger evidence against the null hypothesis.\n",
    "   - A common significance level (α) is 0.05, which corresponds to a 5% probability of making a Type I error (rejecting a true null hypothesis). If the p-value is less than 0.05, you would typically reject the null hypothesis at the 5% significance level.\n",
    "\n",
    "4. **Limitations and Considerations:**\n",
    "   - The p-value is a valuable tool, but it does not provide a measure of the size or practical significance of an effect.\n",
    "   - A p-value does not prove or disprove a hypothesis; it only provides a measure of the strength of evidence against the null hypothesis.\n",
    "   - Researchers should consider the context, sample size, and practical implications when interpreting p-values.\n",
    "\n",
    "In summary, the p-value is a critical component of hypothesis testing as it quantifies the strength of evidence against the null hypothesis. It helps researchers make informed decisions about whether to reject the null hypothesis in favor of the alternative hypothesis, based on the observed data and the chosen significance level."
   ]
  },
  {
   "cell_type": "markdown",
   "id": "b78403af",
   "metadata": {},
   "source": [
    "# Q9. Generate a Student's t-distribution plot using Python's matplotlib library, with the degrees of freedom parameter set to 10."
   ]
  },
  {
   "cell_type": "code",
   "execution_count": 4,
   "id": "9783206f",
   "metadata": {},
   "outputs": [
    {
     "data": {
      "image/png": "[encoded data removed]",
      "text/plain": [
       "<Figure size 800x600 with 1 Axes>"
      ]
     },
     "metadata": {},
     "output_type": "display_data"
    }
   ],
   "source": [
    "import numpy as np\n",
    "import matplotlib.pyplot as plt\n",
    "import scipy.stats as stats\n",
    "\n",
    "# Degrees of freedom\n",
    "df = 10\n",
    "\n",
    "# Generate x values (range of t-values)\n",
    "x = np.linspace(-4, 4, 1000)\n",
    "\n",
    "# Calculate the probability density function (PDF) of the t-distribution\n",
    "pdf = stats.t.pdf(x, df)\n",
    "\n",
    "# Create the plot\n",
    "plt.figure(figsize=(8, 6))\n",
    "plt.plot(x, pdf, label=f't-distribution (df = {df})', color='b')\n",
    "plt.title(f\"Student's t-Distribution (df = {df})\")\n",
    "plt.xlabel('t-value')\n",
    "plt.ylabel('PDF')\n",
    "plt.legend()\n",
    "plt.grid(True)\n",
    "plt.show()\n"
   ]
  },
  {
   "cell_type": "markdown",
   "id": "743c54e5",
   "metadata": {},
   "source": [
    "# Q10. Write a Python program to calculate the two-sample t-test for independent samples, given two random samples of equal size and a null hypothesis that the population means are equal."
   ]
  },
  {
   "cell_type": "code",
   "execution_count": 5,
   "id": "8d85de1c",
   "metadata": {},
   "outputs": [
    {
     "name": "stdout",
     "output_type": "stream",
     "text": [
      "Sample 1 Mean: 104.42856447263173\n",
      "Sample 2 Mean: 97.10478143846018\n",
      "t-statistic: 2.804041400098035\n",
      "p-value: 0.006854000433095002\n",
      "Reject the null hypothesis\n",
      "The population means are not equal.\n"
     ]
    }
   ],
   "source": [
    "import numpy as np\n",
    "from scipy import stats\n",
    "\n",
    "# Generate two random samples of equal size\n",
    "np.random.seed(0)  # Setting a seed for reproducibility\n",
    "sample_size = 30\n",
    "sample1 = np.random.normal(loc=100, scale=10, size=sample_size)\n",
    "sample2 = np.random.normal(loc=100, scale=10, size=sample_size)\n",
    "\n",
    "# Perform a two-sample t-test\n",
    "t_stat, p_value = stats.ttest_ind(sample1, sample2)\n",
    "\n",
    "# Define the significance level (alpha)\n",
    "alpha = 0.05\n",
    "\n",
    "# Print the results\n",
    "print(\"Sample 1 Mean:\", np.mean(sample1))\n",
    "print(\"Sample 2 Mean:\", np.mean(sample2))\n",
    "print(\"t-statistic:\", t_stat)\n",
    "print(\"p-value:\", p_value)\n",
    "\n",
    "# Check if the p-value is less than the significance level\n",
    "if p_value < alpha:\n",
    "    print(\"Reject the null hypothesis\")\n",
    "    print(\"The population means are not equal.\")\n",
    "else:\n",
    "    print(\"Fail to reject the null hypothesis\")\n",
    "    print(\"There is no significant difference between the population means.\")\n"
   ]
  },
  {
   "cell_type": "markdown",
   "id": "38fce5dc",
   "metadata": {},
   "source": [
    "# Q11: What is Student’s t distribution? When to use the t-Distribution."
   ]
  },
  {
   "cell_type": "markdown",
   "id": "4e0766dd",
   "metadata": {},
   "source": [
    "Student's t-distribution, often referred to as the t-distribution, is a probability distribution used in statistics. It is similar to the normal distribution but has heavier tails, which means it has more variability and a higher likelihood of extreme values. The t-distribution is commonly used when dealing with small sample sizes and situations where the population standard deviation is unknown.\n",
    "\n",
    "Key characteristics and uses of the t-distribution:\n",
    "\n",
    "1. **Shape of the Distribution:**\n",
    "   - The t-distribution has a bell-shaped curve similar to the normal distribution but with thicker tails.\n",
    "   - The shape of the t-distribution depends on a parameter known as the degrees of freedom (df).\n",
    "\n",
    "2. **Degrees of Freedom (df):**\n",
    "   - The degrees of freedom are a crucial parameter that determines the shape of the t-distribution.\n",
    "   - In the context of hypothesis testing, the degrees of freedom are related to the sample size and are typically denoted as (n - 1), where \"n\" is the sample size.\n",
    "   - As the degrees of freedom increase, the t-distribution becomes closer to the normal distribution.\n",
    "\n",
    "3. **When to Use the t-Distribution:**\n",
    "   - The t-distribution is used in the following situations:\n",
    "   \n",
    "     a. **Small Sample Sizes:** When dealing with small sample sizes, the sample standard deviation provides a less precise estimate of the population standard deviation. In such cases, the t-distribution is used because it accounts for the additional uncertainty due to the smaller sample size.\n",
    "\n",
    "     b. **Population Standard Deviation Unknown:** If the population standard deviation is unknown, the t-distribution is used in place of the normal distribution.\n",
    "\n",
    "     c. **Hypothesis Testing:** When conducting hypothesis tests to compare means or proportions between two groups (e.g., t-tests for means or chi-squared tests for proportions), the t-distribution is used to account for the sample size and variability.\n",
    "\n",
    "     d. **Confidence Intervals:** When constructing confidence intervals for population parameters, particularly for small samples, the t-distribution is used to provide a more accurate estimate of the interval width.\n",
    "\n",
    "4. **Confidence Intervals:** To estimate population parameters, the t-distribution is used in the construction of confidence intervals. The width of the confidence interval is influenced by the degrees of freedom, sample size, and desired level of confidence.\n",
    "\n",
    "5. **Hypothesis Testing:** The t-distribution is used for hypothesis testing when comparing sample means or proportions to assess whether the observed differences are statistically significant.\n",
    "\n",
    "In summary, the t-distribution is a fundamental probability distribution used in statistics, especially when dealing with small samples or situations where the population standard deviation is unknown. It provides a more appropriate model for the variability of sample statistics under these conditions and is commonly used in hypothesis testing and constructing confidence intervals. The choice between the t-distribution and the normal distribution depends on the specific characteristics of the data and the statistical analysis being conducted."
   ]
  },
  {
   "cell_type": "markdown",
   "id": "ceca6352",
   "metadata": {},
   "source": [
    "# Q12: What is t-statistic? State the formula for t-statistic."
   ]
  },
  {
   "cell_type": "markdown",
   "id": "daeb73c2",
   "metadata": {},
   "source": [
    "The t-statistic, also known as the Student's t-statistic, is a measure used in hypothesis testing to assess whether the difference between sample means is statistically significant. It is often used in scenarios where the population standard deviation is unknown, and small samples are involved.\n",
    "\n",
    "The formula for the t-statistic is as follows:\n",
    "\n",
    "\\[ t = \\frac{\\bar{x}_1 - \\bar{x}_2}{s_p \\sqrt{\\frac{1}{n_1} + \\frac{1}{n_2}}}\\]\n",
    "\n",
    "Where:\n",
    "- \\( \\bar{x}_1 \\) and \\( \\bar{x}_2 \\) are the sample means of the two groups being compared.\n",
    "- \\( n_1 \\) and \\( n_2 \\) are the sample sizes of the two groups.\n",
    "- \\( s_p \\) is the pooled standard deviation, which is calculated as:\n",
    "  \\[ s_p = \\sqrt{\\frac{(n_1 - 1)s_1^2 + (n_2 - 1)s_2^2}{n_1 + n_2 - 2}} \\]\n",
    "  where \\( s_1^2 \\) and \\( s_2^2 \\) are the sample variances of the two groups.\n",
    "\n",
    "The t-statistic measures the difference between the sample means (\\( \\bar{x}_1 \\) and \\( \\bar{x}_2 \\)) relative to the variability within the samples (accounting for the sample sizes and variances). It provides a standardized measure of the effect size and helps in assessing whether this difference is statistically significant.\n",
    "\n",
    "In hypothesis testing, the t-statistic is compared to a critical value from the t-distribution to determine if the difference between the means is statistically significant at a chosen significance level (usually 0.05 or 0.01). If the absolute value of the t-statistic is greater than the critical value, it suggests that there is evidence to reject the null hypothesis, indicating a significant difference between the population means.\n",
    "\n",
    "The t-statistic is commonly used in t-tests, including the independent samples t-test and paired samples t-test, as well as in the analysis of variance (ANOVA) to assess differences among multiple groups. It plays a fundamental role in making statistical inferences about population means and effect sizes in various fields, including scientific research and business analysis."
   ]
  },
  {
   "cell_type": "markdown",
   "id": "9d8aa7c8",
   "metadata": {},
   "source": [
    "# Q13. A coffee shop owner wants to estimate the average daily revenue for their shop. They take a randomsample of 50 days and find the sample mean revenue to be $500 with a standard deviation of $50.Estimate the population mean revenue with a 95% confidence interval."
   ]
  },
  {
   "cell_type": "markdown",
   "id": "c79bb885",
   "metadata": {},
   "source": [
    "To estimate the population mean revenue with a 95% confidence interval, you can use the t-distribution because you're dealing with a sample and the population standard deviation is unknown. The formula for the confidence interval for the population mean (\\( \\mu \\)) is as follows:\n",
    "\n",
    "\\[ \\text{Confidence Interval} = \\bar{x} \\pm \\left(\\frac{t \\cdot s}{\\sqrt{n}}\\right) \\]\n",
    "\n",
    "Where:\n",
    "- \\(\\bar{x}\\) is the sample mean.\n",
    "- \\(t\\) is the critical value from the t-distribution for the desired confidence level and degrees of freedom.\n",
    "- \\(s\\) is the sample standard deviation.\n",
    "- \\(n\\) is the sample size.\n",
    "\n",
    "Here, you have the following information:\n",
    "- Sample mean (\\( \\bar{x} \\)) = $500\n",
    "- Sample standard deviation (\\( s \\)) = $50\n",
    "- Sample size (\\( n \\)) = 50\n",
    "- Desired confidence level = 95%\n",
    "\n",
    "First, you need to find the critical value (\\( t \\)) for a 95% confidence level with 49 degrees of freedom (\\( n - 1 \\)). You can look up this value from a t-distribution table or use a statistical calculator. For a 95% confidence level with 49 degrees of freedom, \\( t \\) is approximately 2.0096.\n",
    "\n",
    "Now, plug these values into the formula:\n",
    "\n",
    "\\[ \\text{Confidence Interval} = 500 \\pm \\left(\\frac{2.0096 \\cdot 50}{\\sqrt{50}}\\right) \\]\n",
    "\n",
    "Calculate the values inside the parentheses:\n",
    "\n",
    "\\[ \\frac{2.0096 \\cdot 50}{\\sqrt{50}} \\approx 14.23 \\]\n",
    "\n",
    "Now, construct the confidence interval:\n",
    "\n",
    "\\[ \\text{Confidence Interval} = 500 \\pm 14.23 \\]\n",
    "\n",
    "So, the 95% confidence interval for the population mean revenue is approximately:\n",
    "\n",
    "\\[ 500 \\pm 14.23 \\]\n",
    "\n",
    "This means you are 95% confident that the true average daily revenue for the coffee shop falls within the interval $485.77 to $514.23."
   ]
  },
  {
   "cell_type": "markdown",
   "id": "3da13a5b",
   "metadata": {},
   "source": [
    "# Q14. A researcher hypothesizes that a new drug will decrease blood pressure by 10 mmHg. They conduct a clinical trial with 100 patients and find that the sample mean decrease in blood pressure is 8 mmHg with a standard deviation of 3 mmHg. Test the hypothesis with a significance level of 0.05."
   ]
  },
  {
   "cell_type": "markdown",
   "id": "148fccc0",
   "metadata": {},
   "source": [
    "To test the hypothesis that a new drug decreases blood pressure by 10 mmHg, you can perform a one-sample t-test. The null hypothesis (H0) is that the drug has no effect, which means the population mean decrease in blood pressure (\\( \\mu \\)) is equal to 10 mmHg. The alternative hypothesis (Ha) is that the drug decreases blood pressure by a different amount, which means \\( \\mu \\) is not equal to 10 mmHg.\n",
    "\n",
    "The one-sample t-test formula for the t-statistic is as follows:\n",
    "\n",
    "\\[ t = \\frac{\\bar{x} - \\mu}{\\frac{s}{\\sqrt{n}}} \\]\n",
    "\n",
    "Where:\n",
    "- \\(\\bar{x}\\) is the sample mean decrease in blood pressure.\n",
    "- \\( \\mu \\) is the hypothesized population mean decrease in blood pressure (10 mmHg).\n",
    "- \\(s\\) is the sample standard deviation.\n",
    "- \\(n\\) is the sample size.\n",
    "\n",
    "Given the following information:\n",
    "- Sample mean (\\( \\bar{x} \\)) = 8 mmHg\n",
    "- Sample standard deviation (\\(s\\)) = 3 mmHg\n",
    "- Sample size (\\(n\\)) = 100\n",
    "- Hypothesized population mean (\\( \\mu \\)) = 10 mmHg\n",
    "- Significance level (\\(\\alpha\\)) = 0.05\n",
    "\n",
    "Let's calculate the t-statistic:\n",
    "\n",
    "\\[ t = \\frac{8 - 10}{\\frac{3}{\\sqrt{100}}} \\]\n",
    "\n",
    "\\[ t = \\frac{-2}{\\frac{3}{10}} \\]\n",
    "\n",
    "\\[ t = \\frac{-20}{3} \\]\n",
    "\n",
    "Now, you need to compare the calculated t-statistic to the critical value from the t-distribution for a one-tailed test at a 0.05 significance level with 99 degrees of freedom (100 - 1). You can use a t-table or a statistical calculator to find the critical value.\n",
    "\n",
    "If the calculated t-statistic is less than the critical value, you reject the null hypothesis. If it is greater, you fail to reject the null hypothesis.\n",
    "\n",
    "For a one-tailed test with a significance level of 0.05 and 99 degrees of freedom, the critical value is approximately -1.660 (assuming you're testing for a decrease in blood pressure).\n",
    "\n",
    "Since the calculated t-statistic (-20/3) is much less than the critical value (-1.660), you would reject the null hypothesis. This means there is strong evidence to suggest that the new drug has a statistically significant effect in decreasing blood pressure."
   ]
  },
  {
   "cell_type": "markdown",
   "id": "8cab48ef",
   "metadata": {},
   "source": [
    "# Q15. An electronics company produces a certain type of product with a mean weight of 5 pounds and a standard deviation of 0.5 pounds. A random sample of 25 products is taken, and the sample mean weight is found to be 4.8 pounds. Test the hypothesis that the true mean weight of the products is less than 5 pounds with a significance level of 0.01."
   ]
  },
  {
   "cell_type": "markdown",
   "id": "cd33fa20",
   "metadata": {},
   "source": [
    "To test the hypothesis that the true mean weight of the products is less than 5 pounds, you can perform a one-sample t-test for a population mean with a one-tailed test. The null hypothesis (H0) is that the true mean weight (\\( \\mu \\)) is equal to 5 pounds, and the alternative hypothesis (Ha) is that the true mean weight is less than 5 pounds.\n",
    "\n",
    "The formula for the one-sample t-test is:\n",
    "\n",
    "\\[ t = \\frac{\\bar{x} - \\mu}{\\frac{s}{\\sqrt{n}}} \\]\n",
    "\n",
    "Where:\n",
    "- \\(\\bar{x}\\) is the sample mean weight.\n",
    "- \\( \\mu \\) is the hypothesized population mean weight (5 pounds).\n",
    "- \\(s\\) is the sample standard deviation.\n",
    "- \\(n\\) is the sample size.\n",
    "\n",
    "Given the following information:\n",
    "- Sample mean (\\( \\bar{x} \\)) = 4.8 pounds\n",
    "- Population standard deviation (\\(s\\)) = 0.5 pounds\n",
    "- Sample size (\\(n\\)) = 25\n",
    "- Hypothesized population mean (\\( \\mu \\)) = 5 pounds\n",
    "- Significance level (\\(\\alpha\\)) = 0.01\n",
    "\n",
    "Let's calculate the t-statistic:\n",
    "\n",
    "\\[ t = \\frac{4.8 - 5}{\\frac{0.5}{\\sqrt{25}}} \\]\n",
    "\n",
    "\\[ t = \\frac{-0.2}{\\frac{0.5}{5}} \\]\n",
    "\n",
    "\\[ t = \\frac{-0.2}{0.1} \\]\n",
    "\n",
    "\\[ t = -2 \\]\n",
    "\n",
    "Now, you need to compare the calculated t-statistic to the critical value from the t-distribution for a one-tailed test at a 0.01 significance level with 24 degrees of freedom (25 - 1). You can use a t-table or a statistical calculator to find the critical value.\n",
    "\n",
    "For a one-tailed test with a significance level of 0.01 and 24 degrees of freedom (testing for less than 5 pounds), the critical value is approximately -2.492 (assuming a left-tailed test).\n",
    "\n",
    "Since the calculated t-statistic (-2) is less than the critical value (-2.492), you would reject the null hypothesis. This means there is strong evidence to suggest that the true mean weight of the products is less than 5 pounds."
   ]
  },
  {
   "cell_type": "markdown",
   "id": "d86d96e7",
   "metadata": {},
   "source": [
    "# Q16. Two groups of students are given different study materials to prepare for a test. The first group (n1 =30) has a mean score of 80 with a standard deviation of 10, and the second group (n2 = 40) has a meanscore of 75 with a standard deviation of 8. Test the hypothesis that the population means for the two groups are equal with a significance level of 0.01."
   ]
  },
  {
   "cell_type": "markdown",
   "id": "bf2d8b56",
   "metadata": {},
   "source": [
    "To test the hypothesis that the population means for the two groups are equal, you can perform an independent samples t-test. The null hypothesis (H0) is that the population means for both groups are equal, and the alternative hypothesis (Ha) is that the population means are not equal.\n",
    "\n",
    "The formula for the independent samples t-test is:\n",
    "\n",
    "\\[ t = \\frac{(\\bar{x}_1 - \\bar{x}_2)}{\\sqrt{\\frac{s_1^2}{n_1} + \\frac{s_2^2}{n_2}}} \\]\n",
    "\n",
    "Where:\n",
    "- \\(\\bar{x}_1\\) and \\(\\bar{x}_2\\) are the sample means of the two groups.\n",
    "- \\(s_1\\) and \\(s_2\\) are the sample standard deviations of the two groups.\n",
    "- \\(n_1\\) and \\(n_2\\) are the sample sizes of the two groups.\n",
    "\n",
    "Given the following information:\n",
    "- For Group 1:\n",
    "  - Sample mean (\\(\\bar{x}_1\\)) = 80\n",
    "  - Sample standard deviation (\\(s_1\\)) = 10\n",
    "  - Sample size (\\(n_1\\)) = 30\n",
    "\n",
    "- For Group 2:\n",
    "  - Sample mean (\\(\\bar{x}_2\\)) = 75\n",
    "  - Sample standard deviation (\\(s_2\\)) = 8\n",
    "  - Sample size (\\(n_2\\)) = 40\n",
    "\n",
    "- Significance level (\\(\\alpha\\)) = 0.01\n",
    "\n",
    "Let's calculate the t-statistic:\n",
    "\n",
    "\\[ t = \\frac{(80 - 75)}{\\sqrt{\\frac{10^2}{30} + \\frac{8^2}{40}}} \\]\n",
    "\n",
    "\\[ t = \\frac{5}{\\sqrt{\\frac{100}{30} + \\frac{64}{40}}} \\]\n",
    "\n",
    "\\[ t = \\frac{5}{\\sqrt{3.3333 + 1.6}} \\]\n",
    "\n",
    "\\[ t \\approx \\frac{5}{\\sqrt{4.9333}} \\]\n",
    "\n",
    "\\[ t \\approx \\frac{5}{2.219} \\]\n",
    "\n",
    "\\[ t \\approx 2.255 \\]\n",
    "\n",
    "Now, you need to compare the calculated t-statistic (2.255) to the critical value from the t-distribution for a two-tailed test at a 0.01 significance level with degrees of freedom determined by the formula: \\( \\text{df} = \\frac{\\left(\\frac{s_1^2}{n_1} + \\frac{s_2^2}{n_2}\\right)^2}{\\frac{\\left(\\frac{s_1^4}{n_1^2(n_1-1)} + \\frac{s_2^4}{n_2^2(n_2-1)}\\right)}{n_1 + n_2 - 2}} \\).\n",
    "\n",
    "The degrees of freedom (df) for this test can be calculated using the given sample information. After calculating df, you can use a t-table or a statistical calculator to find the critical t-value.\n",
    "\n",
    "For a two-tailed test with a significance level of 0.01 and the calculated degrees of freedom, the critical t-value is approximately ±2.626.\n",
    "\n",
    "Since the calculated t-statistic (2.255) is less than the critical t-value (2.626), you fail to reject the null hypothesis. This means that there is not enough evidence to conclude that the population means for the two groups are not equal."
   ]
  },
  {
   "cell_type": "markdown",
   "id": "ef7ec262",
   "metadata": {},
   "source": [
    "# Q17. A marketing company wants to estimate the average number of ads watched by viewers during a TV program. They take a random sample of 50 viewers and find that the sample mean is 4 with a standard deviation of 1.5. Estimate the population mean with a 99% confidence interval."
   ]
  },
  {
   "cell_type": "markdown",
   "id": "3b0cbe5e",
   "metadata": {},
   "source": [
    "To estimate the population mean number of ads watched by viewers during a TV program with a 99% confidence interval, you can use the formula for the confidence interval for the population mean (\\( \\mu \\)). The formula is:\n",
    "\n",
    "\\[ \\text{Confidence Interval} = \\bar{x} \\pm \\left(\\frac{Z \\cdot s}{\\sqrt{n}}\\right) \\]\n",
    "\n",
    "Where:\n",
    "- \\(\\bar{x}\\) is the sample mean.\n",
    "- \\(Z\\) is the critical value from the standard normal distribution for the desired confidence level.\n",
    "- \\(s\\) is the sample standard deviation.\n",
    "- \\(n\\) is the sample size.\n",
    "\n",
    "Given the following information:\n",
    "- Sample mean (\\( \\bar{x} \\)) = 4\n",
    "- Sample standard deviation (\\(s\\)) = 1.5\n",
    "- Sample size (\\(n\\)) = 50\n",
    "- Desired confidence level = 99%\n",
    "\n",
    "You need to find the critical value (\\(Z\\)) for a 99% confidence level. For a 99% confidence level, the critical value is approximately \\(Z = 2.576\\) (you can find this value in a standard normal distribution table or use a statistical calculator).\n",
    "\n",
    "Now, plug the values into the formula:\n",
    "\n",
    "\\[ \\text{Confidence Interval} = 4 \\pm \\left(\\frac{2.576 \\cdot 1.5}{\\sqrt{50}}\\right) \\]\n",
    "\n",
    "Calculate the values inside the parentheses:\n",
    "\n",
    "\\[ \\frac{2.576 \\cdot 1.5}{\\sqrt{50}} \\approx 0.551 \\]\n",
    "\n",
    "Now, construct the confidence interval:\n",
    "\n",
    "\\[ \\text{Confidence Interval} = 4 \\pm 0.551 \\]\n",
    "\n",
    "So, the 99% confidence interval for the population mean number of ads watched by viewers during a TV program is approximately:\n",
    "\n",
    "\\[ 4 \\pm 0.551 \\]\n",
    "\n",
    "This means that you are 99% confident that the true average number of ads watched falls within the interval (3.449, 4.551)."
   ]
  },
  {
   "cell_type": "code",
   "execution_count": null,
   "id": "f44668d9",
   "metadata": {},
   "outputs": [],
   "source": []
  }
 ],
 "metadata": {
  "kernelspec": {
   "display_name": "Python 3 (ipykernel)",
   "language": "python",
   "name": "python3"
  },
  "language_info": {
   "codemirror_mode": {
    "name": "ipython",
    "version": 3
   },
   "file_extension": ".py",
   "mimetype": "text/x-python",
   "name": "python",
   "nbconvert_exporter": "python",
   "pygments_lexer": "ipython3",
   "version": "3.10.9"
  }
 },
 "nbformat": 4,
 "nbformat_minor": 5
}
